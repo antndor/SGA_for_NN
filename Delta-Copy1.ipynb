{
 "cells": [
  {
   "cell_type": "markdown",
   "metadata": {},
   "source": [
    "## Speed-gradient algorithm for the problem of classifying dynamic objects using neural networks\n",
    "\n",
    "###### Delta version"
   ]
  },
  {
   "cell_type": "code",
   "execution_count": 1,
   "metadata": {},
   "outputs": [],
   "source": [
    "import warnings\n",
    "warnings.simplefilter('ignore')\n",
    "\n",
    "%matplotlib inline\n",
    "\n",
    "import pandas as pd\n",
    "import numpy as np\n",
    "import random\n",
    "import matplotlib.pyplot as plt\n",
    "from sklearn.model_selection import train_test_split, GridSearchCV\n",
    "\n",
    "import torch\n",
    "from torch import nn, tensor, optim\n",
    "import torch.nn.functional as F\n",
    "\n",
    "random.seed(0)\n",
    "np.random.seed(0)\n",
    "torch.manual_seed(0)\n",
    "torch.cuda.manual_seed(0)\n",
    "torch.backends.cudnn.deterministic = True\n"
   ]
  },
  {
   "cell_type": "markdown",
   "metadata": {},
   "source": [
    "#### Generating data"
   ]
  },
  {
   "cell_type": "code",
   "execution_count": 2,
   "metadata": {},
   "outputs": [
    {
     "data": {
      "text/html": [
       "<div>\n",
       "<style scoped>\n",
       "    .dataframe tbody tr th:only-of-type {\n",
       "        vertical-align: middle;\n",
       "    }\n",
       "\n",
       "    .dataframe tbody tr th {\n",
       "        vertical-align: top;\n",
       "    }\n",
       "\n",
       "    .dataframe thead tr th {\n",
       "        text-align: left;\n",
       "    }\n",
       "\n",
       "    .dataframe thead tr:last-of-type th {\n",
       "        text-align: right;\n",
       "    }\n",
       "</style>\n",
       "<table border=\"1\" class=\"dataframe\">\n",
       "  <thead>\n",
       "    <tr>\n",
       "      <th>observation</th>\n",
       "      <th colspan=\"2\" halign=\"left\">1</th>\n",
       "      <th colspan=\"2\" halign=\"left\">2</th>\n",
       "      <th>time</th>\n",
       "      <th>target</th>\n",
       "    </tr>\n",
       "    <tr>\n",
       "      <th>axis</th>\n",
       "      <th>x</th>\n",
       "      <th>y</th>\n",
       "      <th>x</th>\n",
       "      <th>y</th>\n",
       "      <th></th>\n",
       "      <th></th>\n",
       "    </tr>\n",
       "    <tr>\n",
       "      <th>object</th>\n",
       "      <th></th>\n",
       "      <th></th>\n",
       "      <th></th>\n",
       "      <th></th>\n",
       "      <th></th>\n",
       "      <th></th>\n",
       "    </tr>\n",
       "  </thead>\n",
       "  <tbody>\n",
       "    <tr>\n",
       "      <th>0</th>\n",
       "      <td>1.0</td>\n",
       "      <td>1.0</td>\n",
       "      <td>2.0</td>\n",
       "      <td>2.0</td>\n",
       "      <td>0</td>\n",
       "      <td>1.0</td>\n",
       "    </tr>\n",
       "    <tr>\n",
       "      <th>1</th>\n",
       "      <td>0.0</td>\n",
       "      <td>1.0</td>\n",
       "      <td>1.0</td>\n",
       "      <td>2.0</td>\n",
       "      <td>0</td>\n",
       "      <td>1.0</td>\n",
       "    </tr>\n",
       "    <tr>\n",
       "      <th>2</th>\n",
       "      <td>1.0</td>\n",
       "      <td>-1.0</td>\n",
       "      <td>3.0</td>\n",
       "      <td>1.0</td>\n",
       "      <td>0</td>\n",
       "      <td>1.0</td>\n",
       "    </tr>\n",
       "    <tr>\n",
       "      <th>3</th>\n",
       "      <td>0.0</td>\n",
       "      <td>-1.0</td>\n",
       "      <td>-1.0</td>\n",
       "      <td>-2.0</td>\n",
       "      <td>0</td>\n",
       "      <td>-1.0</td>\n",
       "    </tr>\n",
       "    <tr>\n",
       "      <th>4</th>\n",
       "      <td>-1.0</td>\n",
       "      <td>-1.0</td>\n",
       "      <td>-3.0</td>\n",
       "      <td>-3.0</td>\n",
       "      <td>0</td>\n",
       "      <td>-1.0</td>\n",
       "    </tr>\n",
       "    <tr>\n",
       "      <th>5</th>\n",
       "      <td>-1.0</td>\n",
       "      <td>1.0</td>\n",
       "      <td>-2.0</td>\n",
       "      <td>0.0</td>\n",
       "      <td>0</td>\n",
       "      <td>-1.0</td>\n",
       "    </tr>\n",
       "  </tbody>\n",
       "</table>\n",
       "</div>"
      ],
      "text/plain": [
       "observation    1         2      time target\n",
       "axis           x    y    x    y            \n",
       "object                                     \n",
       "0            1.0  1.0  2.0  2.0    0    1.0\n",
       "1            0.0  1.0  1.0  2.0    0    1.0\n",
       "2            1.0 -1.0  3.0  1.0    0    1.0\n",
       "3            0.0 -1.0 -1.0 -2.0    0   -1.0\n",
       "4           -1.0 -1.0 -3.0 -3.0    0   -1.0\n",
       "5           -1.0  1.0 -2.0  0.0    0   -1.0"
      ]
     },
     "execution_count": 2,
     "metadata": {},
     "output_type": "execute_result"
    }
   ],
   "source": [
    "number_of_objects = 6\n",
    "number_of_observations = 2\n",
    "number_of_axes = 2\n",
    "names_of_axes = ['x', 'y']\n",
    "obs = ''\n",
    "axis_index = []\n",
    "\n",
    "observations = np.random.randn(number_of_objects, number_of_observations*number_of_axes)\n",
    "\n",
    "observations = np.array([[1., 1., 2., 2.],\n",
    "                         [0., 1., 1., 2.],\n",
    "                         [1., -1., 3., 1.],\n",
    "                         [0., -1., -1., -2.],\n",
    "                         [-1., -1., -3., -3.],\n",
    "                         [-1., 1., -2., 0.]])\n",
    "\n",
    "target = np.array([1., 1., 1., -1, -1, -1])\n",
    "\n",
    "observations = observations.T\n",
    "        \n",
    "for i in range(1, number_of_observations+1):\n",
    "    obs += str(i) + ' ' + str(i) + ' '\n",
    "    for j in names_of_axes:\n",
    "        axis_index.append(j)\n",
    "    \n",
    "observations_index = obs.split()\n",
    "hier_index = list(zip(observations_index,axis_index))\n",
    "hier_index = pd.MultiIndex.from_tuples(hier_index)\n",
    "\n",
    "df = pd.DataFrame(observations, index=hier_index)\n",
    "df.columns.name = 'object'\n",
    "df.index.names = ['observation', 'axis']\n",
    "df = df.T\n",
    "df['time'] = 0\n",
    "df['target'] = target\n",
    "#df = df.dropna(axis='index', how='any')\n",
    "df.to_csv('data.csv', sep='\\t', encoding='utf-8')\n",
    "df.head(6)\n"
   ]
  },
  {
   "cell_type": "markdown",
   "metadata": {},
   "source": [
    "#### Creating tensors"
   ]
  },
  {
   "cell_type": "code",
   "execution_count": 3,
   "metadata": {},
   "outputs": [],
   "source": [
    "# N is batch size; D_in is input dimension; D_out is output dimension.\n",
    "N, D_in, D_out = number_of_objects, number_of_observations*number_of_axes, 1\n",
    "data = df.iloc[:, :D_in + 1]\n",
    "X = torch.tensor(df.iloc[:, :D_in + 1].values, dtype=torch.float32)\n",
    "z = torch.tensor(df['target'].values, dtype=torch.float32).view(N, D_out)\n",
    "    \n",
    "#######\n",
    "device = torch.device('cuda:0' \n",
    "                      if torch.cuda.is_available() \n",
    "                      else 'cpu')\n",
    "X = X.to(device)\n",
    "#######\n"
   ]
  },
  {
   "cell_type": "markdown",
   "metadata": {},
   "source": [
    "#### Model"
   ]
  },
  {
   "cell_type": "code",
   "execution_count": 4,
   "metadata": {},
   "outputs": [],
   "source": [
    "class Model(nn.Module):\n",
    "    def __init__(self):\n",
    "        super(Model, self).__init__()\n",
    "        self.linear1 = nn.Linear(D_in, D_out)\n",
    "        self.linear2 = nn.Linear(D_in, D_out)\n",
    "        self.sigmoid = nn.Sigmoid()\n",
    "        \n",
    "    def forward(self, x):\n",
    "        time = x[:, D_in].view(D_out, N)\n",
    "        x = x[:, :D_in]\n",
    "        x1 = self.linear1(x)\n",
    "        x2 = self.linear2(torch.mm(time, x))\n",
    "        x = x1 + x2\n",
    "        z_pred = self.sigmoid(x) * 2 - 1\n",
    "        return z_pred\n",
    "\n",
    "model = Model()\n"
   ]
  },
  {
   "cell_type": "markdown",
   "metadata": {},
   "source": [
    "#### Training"
   ]
  },
  {
   "cell_type": "code",
   "execution_count": 5,
   "metadata": {
    "scrolled": true
   },
   "outputs": [
    {
     "name": "stdout",
     "output_type": "stream",
     "text": [
      "Epoch: 99 | Loss: 0.08491223305463791 \n",
      "Epoch: 199 | Loss: 0.040117047727108 \n",
      "Epoch: 299 | Loss: 0.02611699141561985 \n",
      "Epoch: 399 | Loss: 0.019319579005241394 \n",
      "Epoch: 499 | Loss: 0.015313252806663513 \n"
     ]
    },
    {
     "data": {
      "image/png": "[encoded data removed]",
      "text/plain": [
       "<Figure size 432x288 with 1 Axes>"
      ]
     },
     "metadata": {
      "needs_background": "light"
     },
     "output_type": "display_data"
    }
   ],
   "source": [
    "losses = []\n",
    "\n",
    "learning_rate = 1e-2\n",
    "loss_fn = nn.MSELoss(reduction='sum')\n",
    "optimizer = optim.SGD(model.parameters(), lr=learning_rate)\n",
    "\n",
    "for epoch in range(500):\n",
    "    z_pred = model(X)\n",
    "    loss = loss_fn(z_pred, z) / 2\n",
    "    \n",
    "    if epoch % 100 == 99:\n",
    "        print(f'Epoch: {epoch} | Loss: {loss.item()} ')\n",
    "\n",
    "    optimizer.zero_grad()\n",
    "    loss.backward()\n",
    "    optimizer.step()\n",
    "\n",
    "    losses.append(loss.item())\n",
    "    \n",
    "plt.figure()\n",
    "plt.plot(losses, '-')\n",
    "plt.show()\n"
   ]
  },
  {
   "cell_type": "code",
   "execution_count": 6,
   "metadata": {},
   "outputs": [
    {
     "name": "stdout",
     "output_type": "stream",
     "text": [
      "<DivBackward0 object at 0x7fef10820c50>\n",
      "<MseLossBackward object at 0x7fef10816590>\n",
      "<SubBackward0 object at 0x7fef10820c50>\n",
      "<MulBackward0 object at 0x7fef10816510>\n",
      "<SigmoidBackward object at 0x7fef10820c50>\n",
      "<AddBackward0 object at 0x7fef107b0ed0>\n",
      "<AddmmBackward object at 0x7fef10820c50>\n"
     ]
    }
   ],
   "source": [
    "print(loss.grad_fn)\n",
    "print(loss.grad_fn.next_functions[0][0])\n",
    "print(loss.grad_fn.next_functions[0][0].next_functions[0][0])\n",
    "print(loss.grad_fn.next_functions[0][0].next_functions[0][0].next_functions[0][0])\n",
    "print(loss.grad_fn.next_functions[0][0].next_functions[0][0].next_functions[0][0].next_functions[0][0])\n",
    "print(loss.grad_fn.next_functions[0][0].next_functions[0][0].next_functions[0][0].next_functions[0][0].next_functions[0][0])\n",
    "print(loss.grad_fn.next_functions[0][0].next_functions[0][0].next_functions[0][0].next_functions[0][0].next_functions[0][0].next_functions[0][0])\n"
   ]
  },
  {
   "cell_type": "code",
   "execution_count": 7,
   "metadata": {},
   "outputs": [
    {
     "name": "stdout",
     "output_type": "stream",
     "text": [
      "weights: OrderedDict([('linear1.weight', tensor([[0.5293, 0.3559, 1.1876, 0.7858]])), ('linear1.bias', tensor([-0.2811])), ('linear2.weight', tensor([[ 0.1341, -0.0099,  0.3964, -0.0444]])), ('linear2.bias', tensor([0.0438]))])\n",
      "z_pred: tensor([[ 0.9800],\n",
      "        [ 0.8934],\n",
      "        [ 0.9728],\n",
      "        [-0.9323],\n",
      "        [-0.9982],\n",
      "        [-0.8837]])\n"
     ]
    },
    {
     "data": {
      "image/png": "[encoded data removed]",
      "text/plain": [
       "<Figure size 432x288 with 1 Axes>"
      ]
     },
     "metadata": {
      "needs_background": "light"
     },
     "output_type": "display_data"
    }
   ],
   "source": [
    "print('weights:', model.state_dict())\n",
    "print('z_pred:', z_pred.data)\n",
    "\n",
    "fig, ax = plt.subplots()\n",
    "ax.plot(X.detach().numpy(), z_pred.detach().numpy(), \"*\", label=\"pred\")\n",
    "ax.plot(X.detach().numpy(), z.detach().numpy(), \".\", label=\"data\")\n",
    "ax.set_title(f\"MSE: {loss.item():0.3f}\")\n",
    "ax.legend();\n"
   ]
  },
  {
   "cell_type": "code",
   "execution_count": 8,
   "metadata": {},
   "outputs": [
    {
     "name": "stdout",
     "output_type": "stream",
     "text": [
      "test_pred: \n",
      "[[ 1.  1.  1. -1. -1. -1.]]\n",
      "test_target: \n",
      "[[ 1.  1.  1. -1. -1. -1.]]\n",
      "loss:\n",
      "0\n"
     ]
    }
   ],
   "source": [
    "test = torch.tensor(df.iloc[:, :D_in + 1].values, dtype=torch.float32)\n",
    "test[0][:] = torch.tensor([2., 2., 3., 3., 0.])\n",
    "test[1][:] = torch.tensor([1., 2., 2., 3., 0.])\n",
    "test[2][:] = torch.tensor([3., 1., 5., 3., 0.])\n",
    "test[3][:] = torch.tensor([-1., -2., -2., -3., 0.])\n",
    "test[4][:] = torch.tensor([-3., -3., -5., -5., 0.])\n",
    "test[5][:] = torch.tensor([-2., 0., -3., -1., 0.])\n",
    "\n",
    "loss = loss_fn(model(test), z) / 2\n",
    "\n",
    "print('test_pred: ', np.rint(model(test).data.numpy()).T,  'test_target: ', z.numpy().T, 'loss:', int(loss.item()),  sep = '\\n')\n"
   ]
  },
  {
   "cell_type": "code",
   "execution_count": null,
   "metadata": {},
   "outputs": [],
   "source": []
  },
  {
   "cell_type": "code",
   "execution_count": null,
   "metadata": {},
   "outputs": [],
   "source": []
  },
  {
   "cell_type": "code",
   "execution_count": null,
   "metadata": {},
   "outputs": [],
   "source": []
  }
 ],
 "metadata": {
  "kernelspec": {
   "display_name": "Python 3",
   "language": "python",
   "name": "python3"
  },
  "language_info": {
   "codemirror_mode": {
    "name": "ipython",
    "version": 3
   },
   "file_extension": ".py",
   "mimetype": "text/x-python",
   "name": "python",
   "nbconvert_exporter": "python",
   "pygments_lexer": "ipython3",
   "version": "3.7.6"
  }
 },
 "nbformat": 4,
 "nbformat_minor": 4
}
